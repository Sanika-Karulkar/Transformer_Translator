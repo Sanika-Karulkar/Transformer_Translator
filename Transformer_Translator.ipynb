{
 "cells": [
  {
   "cell_type": "code",
   "execution_count": 1,
   "id": "2a2c0235",
   "metadata": {},
   "outputs": [],
   "source": [
    "import transformers\n",
    "from transformers import MarianMTModel, MarianTokenizer\n",
    "import ipywidgets as widgets\n",
    "from IPython.display import display, clear_output"
   ]
  },
  {
   "cell_type": "code",
   "execution_count": 2,
   "id": "e0bd7efd",
   "metadata": {},
   "outputs": [],
   "source": [
    "language_pairs = {\n",
    "    'English to French': ('en', 'fr'),\n",
    "    'English to German': ('en', 'de'),\n",
    "    'English to Spanish': ('en', 'es'),\n",
    "    'French to English': ('fr', 'en'),\n",
    "    'German to English': ('de', 'en'),\n",
    "    'Spanish to English': ('es', 'en'),\n",
    "    'English to Hindi': ('en', 'hi'),\n",
    "    'Hindi to English': ('hi', 'en'),\n",
    "}"
   ]
  },
  {
   "cell_type": "code",
   "execution_count": 3,
   "id": "ca1a8414",
   "metadata": {},
   "outputs": [],
   "source": [
    "def translate_text(text, source_lang='en', target_lang='fr'):\n",
    "    model_name = f'Helsinki-NLP/opus-mt-{source_lang}-{target_lang}'\n",
    "    tokenizer = MarianTokenizer.from_pretrained(model_name)\n",
    "    model = MarianMTModel.from_pretrained(model_name)\n",
    "\n",
    "    # Tokenize and translate\n",
    "    inputs = tokenizer(text, return_tensors='pt', padding=True)\n",
    "    translated = model.generate(**inputs)\n",
    "    translated_text = tokenizer.decode(translated[0], skip_special_tokens=True)\n",
    "\n",
    "    return translated_text"
   ]
  },
  {
   "cell_type": "code",
   "execution_count": 4,
   "id": "f7c304dd",
   "metadata": {},
   "outputs": [],
   "source": [
    "# Create widgets for user input\n",
    "input_text = widgets.Textarea(\n",
    "    value='',\n",
    "    placeholder='Enter text to translate...',\n",
    "    description='Input:',\n",
    "    layout=widgets.Layout(width='100%', height='100px')\n",
    ")\n",
    "\n",
    "output_text = widgets.Output()\n",
    "\n",
    "language_pair_selector = widgets.Dropdown(\n",
    "    options=list(language_pairs.keys()),\n",
    "    value='English to French',\n",
    "    description='Language Pair:'\n",
    ")\n",
    "\n",
    "translate_button = widgets.Button(\n",
    "    description='Translate',\n",
    "    style={'button_color': '#F4C2C2'},\n",
    ")"
   ]
  },
  {
   "cell_type": "code",
   "execution_count": 5,
   "id": "dd933365",
   "metadata": {},
   "outputs": [],
   "source": [
    "def on_translate_button_click(b):\n",
    "    with output_text:\n",
    "        clear_output()\n",
    "        source_lang, target_lang = language_pairs[language_pair_selector.value]\n",
    "        translated = translate_text(input_text.value, source_lang, target_lang)\n",
    "        print(f\"Source Text: {input_text.value}\")\n",
    "        print(f\"Translated Text: {translated}\")"
   ]
  },
  {
   "cell_type": "code",
   "execution_count": 6,
   "id": "7601e469",
   "metadata": {},
   "outputs": [],
   "source": [
    "translate_button.on_click(on_translate_button_click)"
   ]
  },
  {
   "cell_type": "code",
   "execution_count": 7,
   "id": "8300d189",
   "metadata": {},
   "outputs": [
    {
     "data": {
      "application/vnd.jupyter.widget-view+json": {
       "model_id": "4af59ffd9d654e668105a78fbc604051",
       "version_major": 2,
       "version_minor": 0
      },
      "text/plain": [
       "Dropdown(description='Language Pair:', options=('English to French', 'English to German', 'English to Spanish'…"
      ]
     },
     "metadata": {},
     "output_type": "display_data"
    },
    {
     "data": {
      "application/vnd.jupyter.widget-view+json": {
       "model_id": "7aff31ac94eb42369ec4bce433e8353a",
       "version_major": 2,
       "version_minor": 0
      },
      "text/plain": [
       "Textarea(value='', description='Input:', layout=Layout(height='100px', width='100%'), placeholder='Enter text …"
      ]
     },
     "metadata": {},
     "output_type": "display_data"
    },
    {
     "data": {
      "application/vnd.jupyter.widget-view+json": {
       "model_id": "79cfd2e9e15c46cd916fd092b14ffa18",
       "version_major": 2,
       "version_minor": 0
      },
      "text/plain": [
       "Button(description='Translate', style=ButtonStyle(button_color='#F4C2C2'))"
      ]
     },
     "metadata": {},
     "output_type": "display_data"
    },
    {
     "data": {
      "application/vnd.jupyter.widget-view+json": {
       "model_id": "00cd5e4edb9c4f40b71ab6e1b99d8e2d",
       "version_major": 2,
       "version_minor": 0
      },
      "text/plain": [
       "Output()"
      ]
     },
     "metadata": {},
     "output_type": "display_data"
    }
   ],
   "source": [
    "display(language_pair_selector, input_text, translate_button, output_text)"
   ]
  },
  {
   "cell_type": "code",
   "execution_count": null,
   "id": "9e63b276",
   "metadata": {},
   "outputs": [],
   "source": []
  }
 ],
 "metadata": {
  "kernelspec": {
   "display_name": "Python 3 (ipykernel)",
   "language": "python",
   "name": "python3"
  },
  "language_info": {
   "codemirror_mode": {
    "name": "ipython",
    "version": 3
   },
   "file_extension": ".py",
   "mimetype": "text/x-python",
   "name": "python",
   "nbconvert_exporter": "python",
   "pygments_lexer": "ipython3",
   "version": "3.11.4"
  }
 },
 "nbformat": 4,
 "nbformat_minor": 5
}
